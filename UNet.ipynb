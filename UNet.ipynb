{
  "nbformat": 4,
  "nbformat_minor": 0,
  "metadata": {
    "colab": {
      "name": "UNet.ipynb",
      "provenance": [],
      "machine_shape": "hm",
      "collapsed_sections": []
    },
    "kernelspec": {
      "name": "python3",
      "display_name": "Python 3"
    },
    "language_info": {
      "name": "python"
    }
  },
  "cells": [
    {
      "cell_type": "markdown",
      "source": [
        "## UNet"
      ],
      "metadata": {
        "id": "2un2B46XUOqx"
      }
    },
    {
      "cell_type": "markdown",
      "source": [
        "### Read Data"
      ],
      "metadata": {
        "id": "-e4ns9tUUf7A"
      }
    },
    {
      "cell_type": "code",
      "source": [
        "# link to file address\n",
        "from google.colab import drive\n",
        "drive.mount('/content/gdrive')"
      ],
      "metadata": {
        "colab": {
          "base_uri": "https://localhost:8080/"
        },
        "id": "8L44vAdTf_Td",
        "outputId": "59da8015-17ef-42e9-b48b-c3d39f1716f9"
      },
      "execution_count": null,
      "outputs": [
        {
          "output_type": "stream",
          "name": "stdout",
          "text": [
            "Drive already mounted at /content/gdrive; to attempt to forcibly remount, call drive.mount(\"/content/gdrive\", force_remount=True).\n"
          ]
        }
      ]
    },
    {
      "cell_type": "code",
      "execution_count": null,
      "metadata": {
        "id": "Cl5NYHnpfTWb"
      },
      "outputs": [],
      "source": [
        "import os\n",
        "from PIL import Image \n",
        "import numpy as np\n",
        "import pandas as pd\n",
        "import torch\n",
        "from torch.utils.data import Dataset, DataLoader\n",
        "from torchvision import datasets, utils, transforms\n",
        "from tqdm import tqdm\n",
        "\n",
        "from sklearn.model_selection import train_test_split\n",
        "import glob\n",
        "import re"
      ]
    },
    {
      "cell_type": "code",
      "source": [
        "# build the class to read data \n",
        "# input of class FDLDataset: \n",
        "# no need to input image path\n",
        "# split desides to use train/validation/test data, where test is not used in this program since we don't have the label of test set\n",
        "class FDL21Dataset(Dataset):\n",
        "    def __init__(self, split, root_dir, target_type='semantic', transform=None, eval=False):\n",
        "        self.transform = transform\n",
        "        self.split = split\n",
        "        self.eval = eval\n",
        "\n",
        "        # Preparing a list of all images and masks rgb and \n",
        "        # ground truth images. Setting relabbelled=True is recommended. \n",
        "\n",
        "        # in this project, only use the else session since there is no test label provided\n",
        "        if self.split == 'test':\n",
        "          self.yLabel_list = sorted(glob.glob('/content/gdrive/MyDrive/Kaggle Deep Learning/test_images/'+'*.jpg')) # use glob and re to get image\n",
        "          self.XImg_list = sorted(glob.glob('/content/gdrive/MyDrive/Kaggle Deep Learning/test_images/'+'*.jpg'))\n",
        "          self.df = pd.DataFrame(list(zip(self.XImg_list, self.yLabel_list)), columns=['image','y']) # use zip to create list and list them again to make dataframe\n",
        "        else:   \n",
        "          self.yLabel_list = sorted(glob.glob('/content/gdrive/MyDrive/Kaggle Deep Learning/train_masks/'+'*.png'))\n",
        "          self.XImg_list = sorted(glob.glob('/content/gdrive/MyDrive/Kaggle Deep Learning/train_images/'+'*.jpg'))\n",
        "          self.df = pd.DataFrame(list(zip(self.XImg_list, self.yLabel_list)), columns=['image','y'])\n",
        "          train_df, valid_df = train_test_split(self.df, test_size = 0.15, random_state = 42)\n",
        "          # decide to get train data or validation data\n",
        "          if self.split == 'train':\n",
        "            self.df = train_df\n",
        "          elif self.split == 'val':\n",
        "            self.df = valid_df\n",
        "\n",
        "    def __len__(self):\n",
        "        length = len(self.df.image)\n",
        "        return length\n",
        "      \n",
        "\n",
        "    def __getitem__(self, index):\n",
        "        # use pandas and numpy to get image and label from df made in __init__\n",
        "        image = Image.open(self.df.iloc[index].image)\n",
        "        y = Image.open(self.df.iloc[index].y)\n",
        "\n",
        "        # use transform to image when transform is defined \n",
        "        # since here is a mistake since we don't have to transform label(y)\n",
        "        if self.transform is not None:\n",
        "            image = self.transform(image)\n",
        "            y = self.transform(y)\n",
        "\n",
        "        # transform both iamge and label to tensor\n",
        "        image = transforms.ToTensor()(image)\n",
        "        y = np.array(y)\n",
        "        y = torch.from_numpy(y)\n",
        "\n",
        "        # change labels to be int for classification\n",
        "        y = y.type(torch.LongTensor) \n",
        "        if self.eval:\n",
        "            return image, y, self.df.iloc[index].image\n",
        "        else:\n",
        "            return image, y"
      ],
      "metadata": {
        "id": "gDZEwfLxf2vD"
      },
      "execution_count": null,
      "outputs": []
    },
    {
      "cell_type": "code",
      "source": [
        "# Function to get data and transform it to dataloader\n",
        "def get_FDL21_data(\n",
        "    split,\n",
        "    root_dir='/content/gdrive/MyDrive/Kaggle Deep Learning/',\n",
        "    target_type=\"semantic\",\n",
        "    transforms=None,\n",
        "    batch_size=8,\n",
        "    eval=False,\n",
        "    shuffle=True,\n",
        "    pin_memory=True,\n",
        "\n",
        "):\n",
        "    data = FDL21Dataset(\n",
        "        split=split, target_type=target_type, transform=transforms, root_dir=root_dir, eval=eval)\n",
        "\n",
        "    data_loaded = torch.utils.data.DataLoader(\n",
        "        data, batch_size=batch_size, shuffle=shuffle, pin_memory=pin_memory)\n",
        "\n",
        "    return data_loaded\n",
        "\n",
        "# Functions to save predictions as images \n",
        "def save_as_images(tensor_pred, folder, image_name):\n",
        "    tensor_pred = transforms.ToPILImage()(tensor_pred.byte())\n",
        "    filename = os.path.join(folder, image_name+'.png')\n",
        "    tensor_pred.save(filename)"
      ],
      "metadata": {
        "id": "C83AiJref2wy"
      },
      "execution_count": null,
      "outputs": []
    },
    {
      "cell_type": "markdown",
      "source": [
        "### Define Model"
      ],
      "metadata": {
        "id": "J_hQ8Pw5UXbJ"
      }
    },
    {
      "cell_type": "markdown",
      "source": [
        "*U-Net: Convolutional Networks for Biomedical\n",
        "Image Segmentation*"
      ],
      "metadata": {
        "id": "Tq-n3tIkUemT"
      }
    },
    {
      "cell_type": "markdown",
      "source": [
        "![image.png](data:image/png;base64,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)"
      ],
      "metadata": {
        "id": "MGku4ZvqUTJV"
      }
    },
    {
      "cell_type": "code",
      "source": [
        "# define the size of each transformed iamge and each transformed label\n",
        "# pre defined since it would be used in the class UNet\n",
        "IMG_HEIGHT = 512  \n",
        "IMG_WIDTH = 512 "
      ],
      "metadata": {
        "id": "wiJRbjoUwj7r"
      },
      "execution_count": null,
      "outputs": []
    },
    {
      "cell_type": "code",
      "source": [
        "import torch\n",
        "from torch.nn import ConvTranspose2d\n",
        "from torch.nn import Conv2d\n",
        "from torch.nn import MaxPool2d\n",
        "from torch.nn import Dropout\n",
        "from torch.nn import Module\n",
        "from torch.nn import ModuleList\n",
        "from torch.nn import ReLU\n",
        "from torch.nn import functional as F\n",
        "from torchvision.transforms import CenterCrop\n",
        "\n",
        "# define a nn module included conv, relu and conv as block which would be used for times in the UNet structure\n",
        "class Block(Module):\n",
        "\tdef __init__(self, in_channels, out_channels):\n",
        "\t\tsuper().__init__()\n",
        "\t\t# store the convolution and RELU layers\n",
        "\t\t# here 3 means the kernal, better to add padding = 1 to add number to pixels which cannot be kernaled\n",
        "\t\tself.conv1 = Conv2d(in_channels, out_channels, 3) \n",
        "\t\t# here relu change units to 0 and positive numbers\n",
        "\t\tself.relu = ReLU()\n",
        "\t\t# conv again\n",
        "\t\tself.conv2 = Conv2d(out_channels, out_channels, 3)\n",
        "\tdef forward(self, x):\n",
        "\t\t# apply CONV => RELU => CONV block to the inputs and return it\n",
        "\t\treturn self.conv2(self.relu(self.conv1(x)))\n",
        "\n",
        "# define a nn module which used to extract features from images in different level (when 16 channels, features in 2*2 pixels level\n",
        "# \t\t\t\t\t\t\t\t\t\t\t\t\t\t\t\t\t\t\t\t\t\t\t\t\t\twhen 32 channels, features in 4*4 pixels level\n",
        "# \t\t\t\t\t\t\t\t\t\t\t\t\t\t\t\t\t\t\t\t\t\t\t\t\t\twhen 64 channels, features in 8*8 pixels level)\n",
        "# level changed because after every block we use maxpool to resample the image\n",
        "class Encoder(Module):\n",
        "\tdef __init__(self, channels=(3, 16, 32, 64)):\n",
        "\t\tsuper().__init__()\n",
        "\t\t# store the encoder blocks and maxpooling layer\n",
        "\t\t# enc_blocks means several (input_channel, output_channel) tuples of block defined before, a kind of neural network\n",
        "\t\tself.enc_blocks = ModuleList([Block(channels[i], channels[i + 1])\n",
        "\t\t\t \t            for i in range(len(channels) - 1)])\n",
        "\t\tself.pool = MaxPool2d(2)\n",
        "\tdef forward(self, x):\n",
        "\t\t# initialize an empty list to store the intermediate outputs\n",
        "\t\tblock_outputs = []\n",
        "\t\t# loop through the encoder blocks\n",
        "\t\tfor block in self.enc_blocks:\n",
        "\t\t\t# pass the inputs through the current encoder block, store\n",
        "\t\t\t# the outputs, and then apply maxpooling on the output\n",
        "\t\t\tx = block(x)\n",
        "\t\t\tblock_outputs.append(x)\n",
        "\t\t\tx = self.pool(x)\n",
        "\t\t# return the list containing the intermediate outputs\n",
        "\t\treturn block_outputs\n",
        "\n",
        "# define a nn module which upconv the final result of the encoder (64 channels with features in 8*8 pixels level)\n",
        "class Decoder(Module):\n",
        "\tdef __init__(self, channels=(64, 32, 16)):\n",
        "\t\tsuper().__init__()\n",
        "\t\t# initialize the number of channels, upsampler blocks, and\n",
        "\t\t# decoder blocks\n",
        "\t\tself.channels = channels\n",
        "\t\tself.upconvs = ModuleList([ConvTranspose2d(channels[i], channels[i + 1], 2, 2)\n",
        "\t\t\t \t          for i in range(len(channels) - 1)])\n",
        "\t\tself.dec_blocks = ModuleList([Block(channels[i], channels[i + 1])\n",
        "\t\t\t \t          for i in range(len(channels) - 1)])\n",
        "\tdef forward(self, x, enc_features):\n",
        "\t\t# loop through the number of channels\n",
        "\t\tfor i in range(len(self.channels) - 1):\n",
        "\t\t\t# pass the inputs through the upsampler blocks\n",
        "\t\t\tx = self.upconvs[i](x)\n",
        "\t\t\t# crop the current features from the encoder blocks,\n",
        "\t\t\t# concatenate them with the current upsampled features,\n",
        "\t\t\t# and pass the concatenated output through the current\n",
        "\t\t\t# decoder block\n",
        "\t\t\tenc_feat = self.crop(enc_features[i], x)\n",
        "\t\t\tx = torch.cat([x, enc_feat], dim=1)\n",
        "\t\t\tx = self.dec_blocks[i](x)\n",
        "\t\t# return the final decoder output\n",
        "\t\treturn x\n",
        "\tdef crop(self, enc_features, x):\n",
        "\t\t# grab the dimensions of the inputs, and crop the encoder\n",
        "\t\t# features to match the dimensions\n",
        "\t\t(_, _, H, W) = x.shape\n",
        "\t\tenc_features = CenterCrop([H, W])(enc_features)\n",
        "\t\t# return the cropped features\n",
        "\t\treturn enc_features\n",
        "\n",
        "# define nn class UNet\n",
        "# we first do encoding to get features for 3 times in different level \n",
        "# then we upconv the result of the encoding result for three times\n",
        "# every time after upconv, we concrete the upconv result and previous encoder result, thus we get channels with the same features level\n",
        "# this helps us to get features in different level\n",
        "# for example, features in different level for a image includes 2*2, 4*4, 8*8, and in every level, we have basic encode featues and upconv features\n",
        "# as a result, to determine the class of every pixel, we know the information around this pixel and meanwhile we know the distirt around it\n",
        "class UNet(Module):\n",
        "  def __init__(self, enc_channels=(3, 16, 32, 64), dec_channels = (64, 32, 16), \n",
        "          nb_classes = 25, retain_dim = True, \n",
        "          out_size = (IMG_HEIGHT, IMG_WIDTH)):\n",
        "    super().__init__()\n",
        "    # initialize the encoder and decoder\n",
        "    self.encoder = Encoder(enc_channels)\n",
        "    self.decoder = Decoder(dec_channels)\n",
        "    # initialize the regression head and store the class variables\n",
        "    self.head = Conv2d(dec_channels[-1], nb_classes, 1)\n",
        "    self.retain_dim = retain_dim\n",
        "    self.out_size = out_size\n",
        "    self.pool = MaxPool2d(2,padding = 1)\n",
        "  def forward(self, x):\n",
        "    # grab the features from the encoder\n",
        "    enc_features = self.encoder(x)\n",
        "    # pass the encoder features through decoder making sure that\n",
        "    # their dimensions are suited for concatenation\n",
        "    dec_features = self.decoder(enc_features[::-1][0], enc_features[::-1][1:])\n",
        "    # pass the decoder features through the regression head to\n",
        "    # obtain the segmentation mask\n",
        "    map = self.head(dec_features)\n",
        "    # check to see if we are retaining the original output\n",
        "    # dimensions and if so, then resize the output to match them\n",
        "    if self.retain_dim:\n",
        "        map = F.interpolate(map, self.out_size)\n",
        "    # return the segmentation map\n",
        "    return map"
      ],
      "metadata": {
        "id": "XIbPAQTKvOCi"
      },
      "execution_count": null,
      "outputs": []
    },
    {
      "cell_type": "markdown",
      "source": [
        "### Pre Setting"
      ],
      "metadata": {
        "id": "03TaZhHNUvu9"
      }
    },
    {
      "cell_type": "code",
      "source": [
        "import torch.optim as optim\n",
        "import torch.nn.functional as F\n",
        "\n",
        "if torch.cuda.is_available():\n",
        "    DEVICE = 'cuda:0'\n",
        "    print('Running on the GPU')\n",
        "else:\n",
        "    DEVICE = \"cpu\"\n",
        "    print('Running on the CPU')\n",
        "\n",
        "MODEL_PATH = '/content/gdrive/MyDrive/Kaggle Deep Learning/output/UNetBasic.pth'\n",
        "LOAD_MODEL = False\n",
        "ROOT_DIR = '/content/gdrive/MyDrive/Kaggle Deep Learning/'\n",
        "IMG_HEIGHT = 512  \n",
        "IMG_WIDTH = 512  \n",
        "BATCH_SIZE = 8\n",
        "LEARNING_RATE = 0.0005\n",
        "EPOCHS = 20\n"
      ],
      "metadata": {
        "colab": {
          "base_uri": "https://localhost:8080/"
        },
        "id": "yc_dWGHDf229",
        "outputId": "dd38712d-1292-4fcf-d87b-607e3d46dbd4"
      },
      "execution_count": null,
      "outputs": [
        {
          "output_type": "stream",
          "name": "stdout",
          "text": [
            "Running on the GPU\n"
          ]
        }
      ]
    },
    {
      "cell_type": "code",
      "source": [
        ""
      ],
      "metadata": {
        "id": "MaOTxt6KU5g6"
      },
      "execution_count": null,
      "outputs": []
    },
    {
      "cell_type": "code",
      "source": [
        ""
      ],
      "metadata": {
        "id": "NL0Lz0iAU5kP"
      },
      "execution_count": null,
      "outputs": []
    },
    {
      "cell_type": "code",
      "source": [
        ""
      ],
      "metadata": {
        "id": "43bpJHraU5nD"
      },
      "execution_count": null,
      "outputs": []
    },
    {
      "cell_type": "code",
      "source": [
        ""
      ],
      "metadata": {
        "id": "yUa81pESU5tN"
      },
      "execution_count": null,
      "outputs": []
    },
    {
      "cell_type": "code",
      "source": [
        ""
      ],
      "metadata": {
        "id": "LtnJGFZOU8di"
      },
      "execution_count": null,
      "outputs": []
    },
    {
      "cell_type": "markdown",
      "source": [
        "### Training"
      ],
      "metadata": {
        "id": "icmlw5y2U8k6"
      }
    },
    {
      "cell_type": "code",
      "source": [
        "def train_function(data, model, optimizer, loss_fn, device):\n",
        "    print('Entering into train function')\n",
        "    loss_values = []\n",
        "    data = tqdm(data)\n",
        "    for index, batch in enumerate(data): \n",
        "        optimizer.zero_grad()\n",
        "        X, y = batch\n",
        "        X, y = X.to(device), y.to(device)\n",
        "\n",
        "        preds = model(X)\n",
        "        loss = loss_fn(preds, y)\n",
        "\n",
        "        loss.backward()\n",
        "        optimizer.step()\n",
        "\n",
        "    return loss.item()"
      ],
      "metadata": {
        "id": "ZXQWE3BGjyid"
      },
      "execution_count": null,
      "outputs": []
    },
    {
      "cell_type": "code",
      "source": [
        "def validation_function(data, model, loss_fn, device):\n",
        "    model.eval()\n",
        "    validation_loss_values = []\n",
        "    \n",
        "    data = tqdm(data)\n",
        "    for index, batch in enumerate(data): \n",
        "        X, y = batch\n",
        "        X, y = X.to(device), y.to(device)\n",
        "\n",
        "        preds = model(X)\n",
        "        validation_loss = loss_fn(preds, y)\n",
        "\n",
        "        validation_loss_values.append(validation_loss.item())\n",
        "    \n",
        "    return validation_loss_values"
      ],
      "metadata": {
        "id": "4Pnzu_4Gqjr2"
      },
      "execution_count": null,
      "outputs": []
    },
    {
      "cell_type": "code",
      "source": [
        "global epoch\n",
        "epoch = 0 # epoch is initially assigned to 0. If LOAD_MODEL is true then\n",
        "          # epoch is set to the last value + 1. \n",
        "LOSS_VALS = [] # Defining a list to store loss values after every epoch\n",
        "VALIDATION_LOSS = []\n",
        "\n",
        "transform = transforms.Compose([\n",
        "    transforms.Resize((IMG_HEIGHT, IMG_WIDTH), interpolation=transforms.InterpolationMode.NEAREST),\n",
        "]) \n",
        "\n",
        "train_set = get_FDL21_data(\n",
        "    split='train',\n",
        "    root_dir=ROOT_DIR,\n",
        "    transforms=transform,\n",
        "    batch_size=BATCH_SIZE,\n",
        ")\n",
        "\n",
        "validation_set = get_FDL21_data(\n",
        "    split='val',\n",
        "    root_dir=ROOT_DIR,\n",
        "    transforms=transform,\n",
        "    batch_size=BATCH_SIZE,\n",
        ")"
      ],
      "metadata": {
        "id": "FuQiZY8akbdu"
      },
      "execution_count": null,
      "outputs": []
    },
    {
      "cell_type": "code",
      "source": [
        "train_set"
      ],
      "metadata": {
        "colab": {
          "base_uri": "https://localhost:8080/"
        },
        "id": "qoIGlsBNTCFt",
        "outputId": "3554b7b7-bd04-4350-9c8e-0e36769dc878"
      },
      "execution_count": null,
      "outputs": [
        {
          "output_type": "execute_result",
          "data": {
            "text/plain": [
              "<torch.utils.data.dataloader.DataLoader at 0x7f280de09890>"
            ]
          },
          "metadata": {},
          "execution_count": 11
        }
      ]
    },
    {
      "cell_type": "code",
      "source": [
        "# Defining the model, optimizer and loss function\n",
        "unet = UNet().to(DEVICE)\n",
        "optimizer = optim.SGD(unet.parameters(), lr=LEARNING_RATE)\n",
        "loss_function = torch.nn.CrossEntropyLoss() "
      ],
      "metadata": {
        "id": "IKF9rqqxmfRA"
      },
      "execution_count": null,
      "outputs": []
    },
    {
      "cell_type": "code",
      "source": [
        "import matplotlib.pyplot as plt\n",
        "save_folder = '/content/gdrive/MyDrive/Kaggle Deep Learning/output/'\n",
        "#function that creates the train-val loss graph\n",
        "#variables 'train_loss' and 'val_loss' are losts containing the average losses for all the epochs\n",
        "def save_graph(train_loss, val_loss, nb_epochs, save_folder):\n",
        "    plt.plot(list(range(nb_epochs+1))[1:], train_loss)\n",
        "    plt.plot(list(range(nb_epochs+1))[1:], val_loss)\n",
        "    plt.legend(['train', 'val'])\n",
        "    plt.xlabel('Epochs')\n",
        "    plt.ylabel('Loss')\n",
        "    plt.savefig('{}/chart.png'.format(save_folder))"
      ],
      "metadata": {
        "id": "JDpn5f14y-Vr"
      },
      "execution_count": null,
      "outputs": []
    },
    {
      "cell_type": "code",
      "source": [
        "#Training the model for every epoch. \n",
        "for e in range(epoch, EPOCHS):\n",
        "    ## TRAINING ##\n",
        "    print(f'Epoch: {e}')\n",
        "    loss_val = train_function(train_set, unet, optimizer, loss_function, DEVICE)\n",
        "    LOSS_VALS.append(loss_val) \n",
        "    torch.save({\n",
        "        'model_state_dict': unet.state_dict(),\n",
        "        'optim_state_dict': optimizer.state_dict(),\n",
        "        'epoch': e,\n",
        "        'loss_values': LOSS_VALS\n",
        "    }, MODEL_PATH)\n",
        "    print(\"Epoch completed and model successfully saved!\")\n",
        "\n",
        "    ## VALIDATION ##\n",
        "    validation_loss_values = validation_function(validation_set, unet, loss_function, DEVICE)\n",
        "    validation_loss_mean = np.mean(validation_loss_values)\n",
        "    VALIDATION_LOSS.append(validation_loss_mean)"
      ],
      "metadata": {
        "colab": {
          "base_uri": "https://localhost:8080/"
        },
        "id": "4FUXE6ZXmzSE",
        "outputId": "5d5f036b-0af3-46e6-eea5-9b5089e859bc"
      },
      "execution_count": null,
      "outputs": [
        {
          "metadata": {
            "tags": null
          },
          "name": "stdout",
          "output_type": "stream",
          "text": [
            "Epoch: 0\n",
            "Entering into train function\n"
          ]
        },
        {
          "metadata": {
            "tags": null
          },
          "name": "stderr",
          "output_type": "stream",
          "text": [
            "100%|██████████| 28/28 [00:55<00:00,  1.97s/it]\n"
          ]
        },
        {
          "metadata": {
            "tags": null
          },
          "name": "stdout",
          "output_type": "stream",
          "text": [
            "Epoch completed and model successfully saved!\n"
          ]
        },
        {
          "metadata": {
            "tags": null
          },
          "name": "stderr",
          "output_type": "stream",
          "text": [
            "100%|██████████| 5/5 [00:10<00:00,  2.01s/it]\n"
          ]
        },
        {
          "metadata": {
            "tags": null
          },
          "name": "stdout",
          "output_type": "stream",
          "text": [
            "Epoch: 1\n",
            "Entering into train function\n"
          ]
        },
        {
          "metadata": {
            "tags": null
          },
          "name": "stderr",
          "output_type": "stream",
          "text": [
            "100%|██████████| 28/28 [00:54<00:00,  1.95s/it]\n"
          ]
        },
        {
          "metadata": {
            "tags": null
          },
          "name": "stdout",
          "output_type": "stream",
          "text": [
            "Epoch completed and model successfully saved!\n"
          ]
        },
        {
          "metadata": {
            "tags": null
          },
          "name": "stderr",
          "output_type": "stream",
          "text": [
            "100%|██████████| 5/5 [00:10<00:00,  2.03s/it]\n"
          ]
        },
        {
          "metadata": {
            "tags": null
          },
          "name": "stdout",
          "output_type": "stream",
          "text": [
            "Epoch: 2\n",
            "Entering into train function\n"
          ]
        },
        {
          "metadata": {
            "tags": null
          },
          "name": "stderr",
          "output_type": "stream",
          "text": [
            "100%|██████████| 28/28 [00:54<00:00,  1.96s/it]\n"
          ]
        },
        {
          "metadata": {
            "tags": null
          },
          "name": "stdout",
          "output_type": "stream",
          "text": [
            "Epoch completed and model successfully saved!\n"
          ]
        },
        {
          "metadata": {
            "tags": null
          },
          "name": "stderr",
          "output_type": "stream",
          "text": [
            "100%|██████████| 5/5 [00:10<00:00,  2.03s/it]\n"
          ]
        },
        {
          "metadata": {
            "tags": null
          },
          "name": "stdout",
          "output_type": "stream",
          "text": [
            "Epoch: 3\n",
            "Entering into train function\n"
          ]
        },
        {
          "metadata": {
            "tags": null
          },
          "name": "stderr",
          "output_type": "stream",
          "text": [
            "100%|██████████| 28/28 [00:54<00:00,  1.95s/it]\n"
          ]
        },
        {
          "metadata": {
            "tags": null
          },
          "name": "stdout",
          "output_type": "stream",
          "text": [
            "Epoch completed and model successfully saved!\n"
          ]
        },
        {
          "metadata": {
            "tags": null
          },
          "name": "stderr",
          "output_type": "stream",
          "text": [
            "100%|██████████| 5/5 [00:10<00:00,  2.05s/it]\n"
          ]
        },
        {
          "metadata": {
            "tags": null
          },
          "name": "stdout",
          "output_type": "stream",
          "text": [
            "Epoch: 4\n",
            "Entering into train function\n"
          ]
        },
        {
          "metadata": {
            "tags": null
          },
          "name": "stderr",
          "output_type": "stream",
          "text": [
            "100%|██████████| 28/28 [00:54<00:00,  1.95s/it]\n"
          ]
        },
        {
          "metadata": {
            "tags": null
          },
          "name": "stdout",
          "output_type": "stream",
          "text": [
            "Epoch completed and model successfully saved!\n"
          ]
        },
        {
          "metadata": {
            "tags": null
          },
          "name": "stderr",
          "output_type": "stream",
          "text": [
            "100%|██████████| 5/5 [00:10<00:00,  2.02s/it]\n"
          ]
        },
        {
          "metadata": {
            "tags": null
          },
          "name": "stdout",
          "output_type": "stream",
          "text": [
            "Epoch: 5\n",
            "Entering into train function\n"
          ]
        },
        {
          "metadata": {
            "tags": null
          },
          "name": "stderr",
          "output_type": "stream",
          "text": [
            "100%|██████████| 28/28 [00:54<00:00,  1.95s/it]\n"
          ]
        },
        {
          "metadata": {
            "tags": null
          },
          "name": "stdout",
          "output_type": "stream",
          "text": [
            "Epoch completed and model successfully saved!\n"
          ]
        },
        {
          "metadata": {
            "tags": null
          },
          "name": "stderr",
          "output_type": "stream",
          "text": [
            "100%|██████████| 5/5 [00:10<00:00,  2.02s/it]\n"
          ]
        },
        {
          "metadata": {
            "tags": null
          },
          "name": "stdout",
          "output_type": "stream",
          "text": [
            "Epoch: 6\n",
            "Entering into train function\n"
          ]
        },
        {
          "metadata": {
            "tags": null
          },
          "name": "stderr",
          "output_type": "stream",
          "text": [
            "100%|██████████| 28/28 [00:55<00:00,  1.97s/it]\n"
          ]
        },
        {
          "metadata": {
            "tags": null
          },
          "name": "stdout",
          "output_type": "stream",
          "text": [
            "Epoch completed and model successfully saved!\n"
          ]
        },
        {
          "metadata": {
            "tags": null
          },
          "name": "stderr",
          "output_type": "stream",
          "text": [
            "100%|██████████| 5/5 [00:10<00:00,  2.04s/it]\n"
          ]
        },
        {
          "metadata": {
            "tags": null
          },
          "name": "stdout",
          "output_type": "stream",
          "text": [
            "Epoch: 7\n",
            "Entering into train function\n"
          ]
        },
        {
          "metadata": {
            "tags": null
          },
          "name": "stderr",
          "output_type": "stream",
          "text": [
            "100%|██████████| 28/28 [00:55<00:00,  1.97s/it]\n"
          ]
        },
        {
          "metadata": {
            "tags": null
          },
          "name": "stdout",
          "output_type": "stream",
          "text": [
            "Epoch completed and model successfully saved!\n"
          ]
        },
        {
          "metadata": {
            "tags": null
          },
          "name": "stderr",
          "output_type": "stream",
          "text": [
            "100%|██████████| 5/5 [00:10<00:00,  2.09s/it]\n"
          ]
        },
        {
          "metadata": {
            "tags": null
          },
          "name": "stdout",
          "output_type": "stream",
          "text": [
            "Epoch: 8\n",
            "Entering into train function\n"
          ]
        },
        {
          "metadata": {
            "tags": null
          },
          "name": "stderr",
          "output_type": "stream",
          "text": [
            "100%|██████████| 28/28 [00:54<00:00,  1.96s/it]\n"
          ]
        },
        {
          "metadata": {
            "tags": null
          },
          "name": "stdout",
          "output_type": "stream",
          "text": [
            "Epoch completed and model successfully saved!\n"
          ]
        },
        {
          "metadata": {
            "tags": null
          },
          "name": "stderr",
          "output_type": "stream",
          "text": [
            "100%|██████████| 5/5 [00:10<00:00,  2.03s/it]\n"
          ]
        },
        {
          "metadata": {
            "tags": null
          },
          "name": "stdout",
          "output_type": "stream",
          "text": [
            "Epoch: 9\n",
            "Entering into train function\n"
          ]
        },
        {
          "metadata": {
            "tags": null
          },
          "name": "stderr",
          "output_type": "stream",
          "text": [
            "100%|██████████| 28/28 [00:54<00:00,  1.94s/it]\n"
          ]
        },
        {
          "metadata": {
            "tags": null
          },
          "name": "stdout",
          "output_type": "stream",
          "text": [
            "Epoch completed and model successfully saved!\n"
          ]
        },
        {
          "metadata": {
            "tags": null
          },
          "name": "stderr",
          "output_type": "stream",
          "text": [
            "100%|██████████| 5/5 [00:10<00:00,  2.00s/it]\n"
          ]
        },
        {
          "metadata": {
            "tags": null
          },
          "name": "stdout",
          "output_type": "stream",
          "text": [
            "Epoch: 10\n",
            "Entering into train function\n"
          ]
        },
        {
          "metadata": {
            "tags": null
          },
          "name": "stderr",
          "output_type": "stream",
          "text": [
            "100%|██████████| 28/28 [00:54<00:00,  1.93s/it]\n"
          ]
        },
        {
          "metadata": {
            "tags": null
          },
          "name": "stdout",
          "output_type": "stream",
          "text": [
            "Epoch completed and model successfully saved!\n"
          ]
        },
        {
          "metadata": {
            "tags": null
          },
          "name": "stderr",
          "output_type": "stream",
          "text": [
            "100%|██████████| 5/5 [00:10<00:00,  2.01s/it]\n"
          ]
        },
        {
          "metadata": {
            "tags": null
          },
          "name": "stdout",
          "output_type": "stream",
          "text": [
            "Epoch: 11\n",
            "Entering into train function\n"
          ]
        },
        {
          "metadata": {
            "tags": null
          },
          "name": "stderr",
          "output_type": "stream",
          "text": [
            "100%|██████████| 28/28 [00:54<00:00,  1.94s/it]\n"
          ]
        },
        {
          "metadata": {
            "tags": null
          },
          "name": "stdout",
          "output_type": "stream",
          "text": [
            "Epoch completed and model successfully saved!\n"
          ]
        },
        {
          "metadata": {
            "tags": null
          },
          "name": "stderr",
          "output_type": "stream",
          "text": [
            "100%|██████████| 5/5 [00:10<00:00,  2.00s/it]\n"
          ]
        },
        {
          "metadata": {
            "tags": null
          },
          "name": "stdout",
          "output_type": "stream",
          "text": [
            "Epoch: 12\n",
            "Entering into train function\n"
          ]
        },
        {
          "metadata": {
            "tags": null
          },
          "name": "stderr",
          "output_type": "stream",
          "text": [
            "100%|██████████| 28/28 [00:54<00:00,  1.94s/it]\n"
          ]
        },
        {
          "metadata": {
            "tags": null
          },
          "name": "stdout",
          "output_type": "stream",
          "text": [
            "Epoch completed and model successfully saved!\n"
          ]
        },
        {
          "metadata": {
            "tags": null
          },
          "name": "stderr",
          "output_type": "stream",
          "text": [
            "100%|██████████| 5/5 [00:10<00:00,  2.02s/it]\n"
          ]
        },
        {
          "metadata": {
            "tags": null
          },
          "name": "stdout",
          "output_type": "stream",
          "text": [
            "Epoch: 13\n",
            "Entering into train function\n"
          ]
        },
        {
          "metadata": {
            "tags": null
          },
          "name": "stderr",
          "output_type": "stream",
          "text": [
            "100%|██████████| 28/28 [00:54<00:00,  1.94s/it]\n"
          ]
        },
        {
          "metadata": {
            "tags": null
          },
          "name": "stdout",
          "output_type": "stream",
          "text": [
            "Epoch completed and model successfully saved!\n"
          ]
        },
        {
          "metadata": {
            "tags": null
          },
          "name": "stderr",
          "output_type": "stream",
          "text": [
            "100%|██████████| 5/5 [00:10<00:00,  2.01s/it]\n"
          ]
        },
        {
          "metadata": {
            "tags": null
          },
          "name": "stdout",
          "output_type": "stream",
          "text": [
            "Epoch: 14\n",
            "Entering into train function\n"
          ]
        },
        {
          "output_type": "stream",
          "name": "stderr",
          "text": [
            "100%|██████████| 28/28 [00:54<00:00,  1.93s/it]\n"
          ]
        },
        {
          "output_type": "stream",
          "name": "stdout",
          "text": [
            "Epoch completed and model successfully saved!\n"
          ]
        },
        {
          "output_type": "stream",
          "name": "stderr",
          "text": [
            "100%|██████████| 5/5 [00:10<00:00,  2.01s/it]\n"
          ]
        },
        {
          "output_type": "stream",
          "name": "stdout",
          "text": [
            "Epoch: 15\n",
            "Entering into train function\n"
          ]
        },
        {
          "output_type": "stream",
          "name": "stderr",
          "text": [
            "100%|██████████| 28/28 [00:54<00:00,  1.94s/it]\n"
          ]
        },
        {
          "output_type": "stream",
          "name": "stdout",
          "text": [
            "Epoch completed and model successfully saved!\n"
          ]
        },
        {
          "output_type": "stream",
          "name": "stderr",
          "text": [
            "100%|██████████| 5/5 [00:10<00:00,  2.01s/it]\n"
          ]
        },
        {
          "output_type": "stream",
          "name": "stdout",
          "text": [
            "Epoch: 16\n",
            "Entering into train function\n"
          ]
        },
        {
          "output_type": "stream",
          "name": "stderr",
          "text": [
            "100%|██████████| 28/28 [00:55<00:00,  1.97s/it]\n"
          ]
        },
        {
          "output_type": "stream",
          "name": "stdout",
          "text": [
            "Epoch completed and model successfully saved!\n"
          ]
        },
        {
          "output_type": "stream",
          "name": "stderr",
          "text": [
            "100%|██████████| 5/5 [00:10<00:00,  2.00s/it]\n"
          ]
        },
        {
          "output_type": "stream",
          "name": "stdout",
          "text": [
            "Epoch: 17\n",
            "Entering into train function\n"
          ]
        },
        {
          "output_type": "stream",
          "name": "stderr",
          "text": [
            "100%|██████████| 28/28 [00:55<00:00,  1.97s/it]\n"
          ]
        },
        {
          "output_type": "stream",
          "name": "stdout",
          "text": [
            "Epoch completed and model successfully saved!\n"
          ]
        },
        {
          "output_type": "stream",
          "name": "stderr",
          "text": [
            "100%|██████████| 5/5 [00:09<00:00,  2.00s/it]\n"
          ]
        },
        {
          "output_type": "stream",
          "name": "stdout",
          "text": [
            "Epoch: 18\n",
            "Entering into train function\n"
          ]
        },
        {
          "output_type": "stream",
          "name": "stderr",
          "text": [
            "100%|██████████| 28/28 [00:54<00:00,  1.94s/it]\n"
          ]
        },
        {
          "output_type": "stream",
          "name": "stdout",
          "text": [
            "Epoch completed and model successfully saved!\n"
          ]
        },
        {
          "output_type": "stream",
          "name": "stderr",
          "text": [
            "100%|██████████| 5/5 [00:10<00:00,  2.01s/it]\n"
          ]
        },
        {
          "output_type": "stream",
          "name": "stdout",
          "text": [
            "Epoch: 19\n",
            "Entering into train function\n"
          ]
        },
        {
          "output_type": "stream",
          "name": "stderr",
          "text": [
            "100%|██████████| 28/28 [00:54<00:00,  1.94s/it]\n"
          ]
        },
        {
          "output_type": "stream",
          "name": "stdout",
          "text": [
            "Epoch completed and model successfully saved!\n"
          ]
        },
        {
          "output_type": "stream",
          "name": "stderr",
          "text": [
            "100%|██████████| 5/5 [00:10<00:00,  2.00s/it]\n"
          ]
        }
      ]
    },
    {
      "cell_type": "code",
      "source": [
        "save_graph(LOSS_VALS, VALIDATION_LOSS, EPOCHS, save_folder)"
      ],
      "metadata": {
        "colab": {
          "base_uri": "https://localhost:8080/",
          "height": 279
        },
        "id": "HTHuJ89e7nIg",
        "outputId": "7d034672-3c23-4e9e-b60f-dc759648e734"
      },
      "execution_count": null,
      "outputs": [
        {
          "output_type": "display_data",
          "data": {
            "image/png": "[encoded data removed]",
            "text/plain": [
              "<Figure size 432x288 with 1 Axes>"
            ]
          },
          "metadata": {
            "needs_background": "light"
          }
        }
      ]
    },
    {
      "cell_type": "code",
      "source": [
        ""
      ],
      "metadata": {
        "id": "raku4GHB4w_9"
      },
      "execution_count": null,
      "outputs": []
    },
    {
      "cell_type": "code",
      "source": [
        ""
      ],
      "metadata": {
        "id": "tq5gEB1x_BaC"
      },
      "execution_count": null,
      "outputs": []
    },
    {
      "cell_type": "code",
      "source": [
        ""
      ],
      "metadata": {
        "id": "FZgk_3dI4xCa"
      },
      "execution_count": null,
      "outputs": []
    },
    {
      "cell_type": "code",
      "source": [
        ""
      ],
      "metadata": {
        "id": "KHmqbX9L4xEh"
      },
      "execution_count": null,
      "outputs": []
    },
    {
      "cell_type": "code",
      "source": [
        ""
      ],
      "metadata": {
        "id": "xs9IPWVG4xGo"
      },
      "execution_count": null,
      "outputs": []
    },
    {
      "cell_type": "markdown",
      "source": [
        "### Predict and Output"
      ],
      "metadata": {
        "id": "hywsG4g1VCDx"
      }
    },
    {
      "cell_type": "code",
      "source": [
        "torch.cuda.empty_cache()"
      ],
      "metadata": {
        "id": "eAGq8gdA5dHt"
      },
      "execution_count": null,
      "outputs": []
    },
    {
      "cell_type": "code",
      "source": [
        "folder = '/content/gdrive/MyDrive/Kaggle Deep Learning/test_masks'"
      ],
      "metadata": {
        "id": "Q4LNp_Nv6dco"
      },
      "execution_count": null,
      "outputs": []
    },
    {
      "cell_type": "code",
      "source": [
        "import matplotlib.pyplot as plt "
      ],
      "metadata": {
        "id": "KtjMuKA-39ik"
      },
      "execution_count": null,
      "outputs": []
    },
    {
      "cell_type": "code",
      "source": [
        "if torch.cuda.is_available():\n",
        "    device = 'cuda:0'\n",
        "    print('Running on the GPU')\n",
        "else:\n",
        "    device = 'cpu'\n",
        "    print('Running on the CPU')\n",
        "IMAGE_HEIGHT = 512\n",
        "IMAGE_WIDTH = 512\n",
        "EVAL = True\n",
        "PLOT_LOSS = True\n",
        "\n",
        "def save_predictions(data, model):    \n",
        "    model.eval()\n",
        "    with torch.no_grad():\n",
        "        for idx, batch in enumerate(tqdm(data)):\n",
        "\n",
        "            X, y, s = batch # here 's' is the name of the file stored in the root directory\n",
        "            X, y = X.to(device), y.to(device)\n",
        "            predictions = model(X) \n",
        "            \n",
        "            predictions = torch.nn.functional.softmax(predictions, dim=1)\n",
        "            pred_labels = torch.argmax(predictions, dim=1) \n",
        "            pred_labels = pred_labels.float()\n",
        "\n",
        "            # Resizing predicted images too original size\n",
        "            pred_labels = transforms.Resize((4000, 3000), interpolation=transforms.InterpolationMode.NEAREST)(pred_labels)\n",
        "            # Configure filename & location to save predictions as images\n",
        "            name = re.search('\\/(\\d+\\.?\\d*)\\.', str(s)).group(1)\n",
        "            global location\n",
        "            #for test: \n",
        "            location = '/content/gdrive/MyDrive/Kaggle Deep Learning/test_masks'\n",
        "            #for val: location = '/content/data/val_preds/'\n",
        "            save_as_images(pred_labels, location, name)                \n",
        "\n",
        "def evaluate(path):\n",
        "    T = transforms.Compose([\n",
        "        transforms.Resize((IMAGE_HEIGHT, IMAGE_WIDTH), interpolation=transforms.InterpolationMode.NEAREST)\n",
        "    ])\n",
        "\n",
        "    val_set = get_FDL21_data(\n",
        "        root_dir=ROOT_DIR,\n",
        "        split='test',\n",
        "        transforms=T,\n",
        "        shuffle=True,\n",
        "        eval=True\n",
        "    )\n",
        " \n",
        "    print('Data has been loaded!')\n",
        "\n",
        "    net = UNet().to(device)\n",
        "    checkpoint = torch.load(path)\n",
        "    net.load_state_dict(checkpoint['model_state_dict'])\n",
        "    net.eval()\n",
        "    print(f'{path} has been loaded and initialized')\n",
        "    save_predictions(val_set, net)\n",
        "\n",
        "def plot_losses(path):\n",
        "    checkpoint = torch.load(path)\n",
        "    losses = checkpoint['loss_values']\n",
        "    epoch = checkpoint['epoch']\n",
        "    epoch_list = list(range(epoch+1))\n",
        "\n",
        "    print('loss:')\n",
        "    print(losses[-1])\n",
        "    plt.plot(epoch_list, losses)\n",
        "    plt.xlabel('Epochs')\n",
        "    plt.ylabel('Loss')\n",
        "    plt.title(f\"Loss over {epoch+1} epoch/s\")\n",
        "    plt.show()\n",
        "\n",
        "if __name__ == '__main__':\n",
        "    if EVAL:\n",
        "        evaluate(MODEL_PATH)\n",
        "    if PLOT_LOSS:\n",
        "        plot_losses(MODEL_PATH)"
      ],
      "metadata": {
        "colab": {
          "base_uri": "https://localhost:8080/",
          "height": 399
        },
        "id": "50Cab-hg5eng",
        "outputId": "18f72406-6ccc-4808-95f9-6536eacd8f81"
      },
      "execution_count": null,
      "outputs": [
        {
          "output_type": "stream",
          "name": "stdout",
          "text": [
            "Running on the GPU\n",
            "Data has been loaded!\n",
            "/content/gdrive/MyDrive/Kaggle Deep Learning/output/UNetBasic.pth has been loaded and initialized\n"
          ]
        },
        {
          "output_type": "stream",
          "name": "stderr",
          "text": [
            "100%|██████████| 112/112 [00:59<00:00,  1.89it/s]"
          ]
        },
        {
          "output_type": "stream",
          "name": "stdout",
          "text": [
            "loss:\n",
            "3.2149319648742676\n"
          ]
        },
        {
          "output_type": "stream",
          "name": "stderr",
          "text": [
            "\n"
          ]
        },
        {
          "output_type": "display_data",
          "data": {
            "image/png": "[encoded data removed]",
            "text/plain": [
              "<Figure size 432x288 with 1 Axes>"
            ]
          },
          "metadata": {
            "needs_background": "light"
          }
        }
      ]
    },
    {
      "cell_type": "code",
      "source": [
        "import matplotlib.pyplot as plt \n",
        "import cv2\n",
        "\n",
        "image_path = '/content/gdrive/MyDrive/Kaggle Deep Learning/test_images/10171.jpg'\n",
        "mask_path = '/content/gdrive/MyDrive/Kaggle Deep Learning/test_masks/10171.png'\n",
        "\n",
        "image = cv2.imread(image_path)\n",
        "image = cv2.cvtColor(image, cv2.COLOR_BGR2RGB)\n",
        "\n",
        "mask = cv2.imread(mask_path, cv2.IMREAD_GRAYSCALE)\n",
        "f, (ax1, ax2) = plt.subplots(1, 2, figsize=(10,5))\n",
        "        \n",
        "ax1.set_title('IMAGE')\n",
        "ax1.imshow(image)\n",
        "\n",
        "ax2.set_title('MASK')\n",
        "ax2.imshow(mask,cmap = 'gray')"
      ],
      "metadata": {
        "id": "Cu_NJQ3p5ep9"
      },
      "execution_count": null,
      "outputs": []
    },
    {
      "cell_type": "code",
      "source": [
        "import os\n",
        "\n",
        "from PIL import Image\n",
        "import numpy as np\n",
        "\n",
        "def rle_encode(img):\n",
        "    '''\n",
        "    img: numpy array, 1 - mask, 0 - background\n",
        "    Returns run length as string formated\n",
        "    '''\n",
        "    pixels = img.flatten()\n",
        "    pixels = np.concatenate([[0], pixels, [0]])\n",
        "    runs = np.where(pixels[1:] != pixels[:-1])[0] + 1\n",
        "    runs[1::2] -= runs[::2]\n",
        "    return ' '.join(str(x) for x in runs)\n",
        "\n",
        "def rle_decode(mask_rle, shape):\n",
        "    '''\n",
        "    mask_rle: run-length as string formated (start length)\n",
        "    shape: (height,width) of array to return\n",
        "    Returns numpy array, 1 - mask, 0 - background\n",
        "    '''\n",
        "    s = mask_rle.split()\n",
        "    starts, lengths = [np.asarray(x, dtype=int) for x in (s[0:][::2], s[1:][::2])]\n",
        "    starts -= 1\n",
        "    ends = starts + lengths\n",
        "    img = np.zeros(shape[0]*shape[1], dtype=np.uint8)\n",
        "    for lo, hi in zip(starts, ends):\n",
        "        img[lo:hi] = 1\n",
        "    return img.reshape(shape)\n",
        "\n",
        "\n",
        "def create_rles():\n",
        "    \"\"\"Used for Kaggle submission: predicts and encode all test images\"\"\"\n",
        "    dir = '/content/gdrive/MyDrive/Kaggle Deep Learning/test_masks'\n",
        "    N = len(list(os.listdir(dir)))\n",
        "    with open('/content/gdrive/MyDrive/Kaggle Deep Learning/output/submission_file.csv', 'w') as f:\n",
        "        f.write('ImageClassId,rle_mask\\n')\n",
        "        for index, i in enumerate(os.listdir(dir)):\n",
        "            print('{}/{}'.format(index, N))\n",
        "\n",
        "            mask = Image.open(dir + '/' + i)\n",
        "            mask = mask.resize((1024, 1024), resample=Image.NEAREST)\n",
        "            mask = np.array(mask)\n",
        "\n",
        "            for x in range(1, 25):\n",
        "                enc = rle_encode(mask == x)\n",
        "                f.write(f\"{i.split('_')[0]}_{x},{enc}\\n\")"
      ],
      "metadata": {
        "id": "BL4a9vL6-4_h"
      },
      "execution_count": null,
      "outputs": []
    },
    {
      "cell_type": "code",
      "source": [
        "create_rles()"
      ],
      "metadata": {
        "id": "DEXJgKHgNDGD"
      },
      "execution_count": null,
      "outputs": []
    }
  ]
}