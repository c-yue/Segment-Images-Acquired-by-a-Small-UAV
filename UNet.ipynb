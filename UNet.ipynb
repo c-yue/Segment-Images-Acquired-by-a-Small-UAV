{
  "nbformat": 4,
  "nbformat_minor": 0,
  "metadata": {
    "colab": {
      "name": "New UNet.ipynb",
      "provenance": [],
      "machine_shape": "hm",
      "collapsed_sections": []
    },
    "kernelspec": {
      "name": "python3",
      "display_name": "Python 3"
    },
    "language_info": {
      "name": "python"
    },
    "accelerator": "GPU"
  },
  "cells": [
    {
      "cell_type": "markdown",
      "source": [
        "## UNet"
      ],
      "metadata": {
        "id": "2un2B46XUOqx"
      }
    },
    {
      "cell_type": "markdown",
      "source": [
        "### Read Data"
      ],
      "metadata": {
        "id": "-e4ns9tUUf7A"
      }
    },
    {
      "cell_type": "code",
      "source": [
        "# link to file address\n",
        "from google.colab import drive\n",
        "drive.mount('/content/gdrive')"
      ],
      "metadata": {
        "colab": {
          "base_uri": "https://localhost:8080/"
        },
        "id": "8L44vAdTf_Td",
        "outputId": "59da8015-17ef-42e9-b48b-c3d39f1716f9"
      },
      "execution_count": 1,
      "outputs": [
        {
          "output_type": "stream",
          "name": "stdout",
          "text": [
            "Drive already mounted at /content/gdrive; to attempt to forcibly remount, call drive.mount(\"/content/gdrive\", force_remount=True).\n"
          ]
        }
      ]
    },
    {
      "cell_type": "code",
      "execution_count": 2,
      "metadata": {
        "id": "Cl5NYHnpfTWb"
      },
      "outputs": [],
      "source": [
        "import os\n",
        "from PIL import Image \n",
        "import numpy as np\n",
        "import pandas as pd\n",
        "import torch\n",
        "from torch.utils.data import Dataset, DataLoader\n",
        "from torchvision import datasets, utils, transforms\n",
        "from tqdm import tqdm\n",
        "\n",
        "from sklearn.model_selection import train_test_split\n",
        "import glob\n",
        "import re"
      ]
    },
    {
      "cell_type": "code",
      "source": [
        "class FDL21Dataset(Dataset):\n",
        "    def __init__(self, split, root_dir, target_type='semantic', transform=None, eval=False):\n",
        "        self.transform = transform\n",
        "        self.split = split\n",
        "        self.eval = eval\n",
        "\n",
        "        # Preparing a list of all images and masks rgb and \n",
        "        # ground truth images. Setting relabbelled=True is recommended. \n",
        "\n",
        "        if self.split == 'test':\n",
        "          self.yLabel_list = sorted(glob.glob('/content/gdrive/MyDrive/Kaggle Deep Learning/test_images/'+'*.jpg'))\n",
        "          self.XImg_list = sorted(glob.glob('/content/gdrive/MyDrive/Kaggle Deep Learning/test_images/'+'*.jpg'))\n",
        "          self.df = pd.DataFrame(list(zip(self.XImg_list, self.yLabel_list)), columns=['image','y'])\n",
        "        else:   \n",
        "          self.yLabel_list = sorted(glob.glob('/content/gdrive/MyDrive/Kaggle Deep Learning/train_masks/'+'*.png'))\n",
        "          self.XImg_list = sorted(glob.glob('/content/gdrive/MyDrive/Kaggle Deep Learning/train_images/'+'*.jpg'))\n",
        "          self.df = pd.DataFrame(list(zip(self.XImg_list, self.yLabel_list)), columns=['image','y'])\n",
        "          train_df, valid_df = train_test_split(self.df, test_size = 0.15, random_state = 42)\n",
        "          if self.split == 'train':\n",
        "            self.df = train_df\n",
        "          elif self.split == 'val':\n",
        "            self.df = valid_df\n",
        "\n",
        "    def __len__(self):\n",
        "        length = len(self.df.image)\n",
        "        return length\n",
        "      \n",
        "\n",
        "    def __getitem__(self, index):\n",
        "        image = Image.open(self.df.iloc[index].image)\n",
        "        y = Image.open(self.df.iloc[index].y)\n",
        "\n",
        "        if self.transform is not None:\n",
        "            image = self.transform(image)\n",
        "            y = self.transform(y)\n",
        "\n",
        "        image = transforms.ToTensor()(image)\n",
        "        y = np.array(y)\n",
        "        y = torch.from_numpy(y)\n",
        "        \n",
        "        y = y.type(torch.LongTensor)\n",
        "        if self.eval:\n",
        "            return image, y, self.df.iloc[index].image\n",
        "        else:\n",
        "            return image, y"
      ],
      "metadata": {
        "id": "gDZEwfLxf2vD"
      },
      "execution_count": 3,
      "outputs": []
    },
    {
      "cell_type": "code",
      "source": [
        "def get_FDL21_data(\n",
        "    split,\n",
        "    root_dir='/content/gdrive/MyDrive/Kaggle Deep Learning/',\n",
        "    target_type=\"semantic\",\n",
        "    transforms=None,\n",
        "    batch_size=1,\n",
        "    eval=False,\n",
        "    shuffle=True,\n",
        "    pin_memory=True,\n",
        "\n",
        "):\n",
        "    data = FDL21Dataset(\n",
        "        split=split, target_type=target_type, transform=transforms, root_dir=root_dir, eval=eval)\n",
        "\n",
        "    data_loaded = torch.utils.data.DataLoader(\n",
        "        data, batch_size=batch_size, shuffle=shuffle, pin_memory=pin_memory)\n",
        "\n",
        "    return data_loaded\n",
        "\n",
        "# Functions to save predictions as images \n",
        "def save_as_images(tensor_pred, folder, image_name):\n",
        "    tensor_pred = transforms.ToPILImage()(tensor_pred.byte())\n",
        "    filename = os.path.join(folder, image_name+'.png')\n",
        "    tensor_pred.save(filename)"
      ],
      "metadata": {
        "id": "C83AiJref2wy"
      },
      "execution_count": 4,
      "outputs": []
    },
    {
      "cell_type": "code",
      "source": [
        "IMG_HEIGHT = 512  \n",
        "IMG_WIDTH = 512 "
      ],
      "metadata": {
        "id": "wiJRbjoUwj7r"
      },
      "execution_count": 5,
      "outputs": []
    },
    {
      "cell_type": "markdown",
      "source": [
        "### Define Model"
      ],
      "metadata": {
        "id": "J_hQ8Pw5UXbJ"
      }
    },
    {
      "cell_type": "code",
      "source": [
        "import torch\n",
        "from torch.nn import ConvTranspose2d\n",
        "from torch.nn import Conv2d\n",
        "from torch.nn import MaxPool2d\n",
        "from torch.nn import Dropout\n",
        "from torch.nn import Module\n",
        "from torch.nn import ModuleList\n",
        "from torch.nn import ReLU\n",
        "from torch.nn import functional as F\n",
        "from torchvision.transforms import CenterCrop\n",
        "\n",
        "class Block(Module):\n",
        "\tdef __init__(self, in_channels, out_channels):\n",
        "\t\tsuper().__init__()\n",
        "\t\t# store the convolution and RELU layers\n",
        "\t\tself.conv1 = Conv2d(in_channels, out_channels, 3)\n",
        "\t\tself.relu = ReLU()\n",
        "\t\tself.conv2 = Conv2d(out_channels, out_channels, 3)\n",
        "\tdef forward(self, x):\n",
        "\t\t# apply CONV => RELU => CONV block to the inputs and return it\n",
        "\t\treturn self.conv2(self.relu(self.conv1(x)))\n",
        "\n",
        "class Encoder(Module):\n",
        "\tdef __init__(self, channels=(3, 16, 32, 64)):\n",
        "\t\tsuper().__init__()\n",
        "\t\t# store the encoder blocks and maxpooling layer\n",
        "\t\tself.enc_blocks = ModuleList([Block(channels[i], channels[i + 1])\n",
        "\t\t\t \t            for i in range(len(channels) - 1)])\n",
        "\t\tself.pool = MaxPool2d(2)\n",
        "\tdef forward(self, x):\n",
        "\t\t# initialize an empty list to store the intermediate outputs\n",
        "\t\tblock_outputs = []\n",
        "\t\t# loop through the encoder blocks\n",
        "\t\tfor block in self.enc_blocks:\n",
        "\t\t\t# pass the inputs through the current encoder block, store\n",
        "\t\t\t# the outputs, and then apply maxpooling on the output\n",
        "\t\t\tx = block(x)\n",
        "\t\t\tblock_outputs.append(x)\n",
        "\t\t\tx = self.pool(x)\n",
        "\t\t# return the list containing the intermediate outputs\n",
        "\t\treturn block_outputs\n",
        "\n",
        "class Decoder(Module):\n",
        "\tdef __init__(self, channels=(64, 32, 16)):\n",
        "\t\tsuper().__init__()\n",
        "\t\t# initialize the number of channels, upsampler blocks, and\n",
        "\t\t# decoder blocks\n",
        "\t\tself.channels = channels\n",
        "\t\tself.upconvs = ModuleList([ConvTranspose2d(channels[i], channels[i + 1], 2, 2)\n",
        "\t\t\t \t          for i in range(len(channels) - 1)])\n",
        "\t\tself.dec_blocks = ModuleList([Block(channels[i], channels[i + 1])\n",
        "\t\t\t \t          for i in range(len(channels) - 1)])\n",
        "\tdef forward(self, x, enc_features):\n",
        "\t\t# loop through the number of channels\n",
        "\t\tfor i in range(len(self.channels) - 1):\n",
        "\t\t\t# pass the inputs through the upsampler blocks\n",
        "\t\t\tx = self.upconvs[i](x)\n",
        "\t\t\t# crop the current features from the encoder blocks,\n",
        "\t\t\t# concatenate them with the current upsampled features,\n",
        "\t\t\t# and pass the concatenated output through the current\n",
        "\t\t\t# decoder block\n",
        "\t\t\tenc_feat = self.crop(enc_features[i], x)\n",
        "\t\t\tx = torch.cat([x, enc_feat], dim=1)\n",
        "\t\t\tx = self.dec_blocks[i](x)\n",
        "\t\t# return the final decoder output\n",
        "\t\treturn x\n",
        "\tdef crop(self, enc_features, x):\n",
        "\t\t# grab the dimensions of the inputs, and crop the encoder\n",
        "\t\t# features to match the dimensions\n",
        "\t\t(_, _, H, W) = x.shape\n",
        "\t\tenc_features = CenterCrop([H, W])(enc_features)\n",
        "\t\t# return the cropped features\n",
        "\t\treturn enc_features\n",
        "\n",
        "class UNet(Module):\n",
        "  def __init__(self, enc_channels=(3, 16, 32, 64), dec_channels = (64, 32, 16), \n",
        "          nb_classes = 25, retain_dim = True, \n",
        "          out_size = (IMG_HEIGHT, IMG_WIDTH)):\n",
        "    super().__init__()\n",
        "    # initialize the encoder and decoder\n",
        "    self.encoder = Encoder(enc_channels)\n",
        "    self.decoder = Decoder(dec_channels)\n",
        "    # initialize the regression head and store the class variables\n",
        "    self.head = Conv2d(dec_channels[-1], nb_classes, 1)\n",
        "    self.retain_dim = retain_dim\n",
        "    self.out_size = out_size\n",
        "    self.pool = MaxPool2d(2,padding = 1)\n",
        "  def forward(self, x):\n",
        "    # grab the features from the encoder\n",
        "    enc_features = self.encoder(x)\n",
        "    # pass the encoder features through decoder making sure that\n",
        "    # their dimensions are suited for concatenation\n",
        "    dec_features = self.decoder(enc_features[::-1][0], enc_features[::-1][1:])\n",
        "    # pass the decoder features through the regression head to\n",
        "    # obtain the segmentation mask\n",
        "    map = self.head(dec_features)\n",
        "    # check to see if we are retaining the original output\n",
        "    # dimensions and if so, then resize the output to match them\n",
        "    if self.retain_dim:\n",
        "        map = F.interpolate(map, self.out_size)\n",
        "    # return the segmentation map\n",
        "    return map"
      ],
      "metadata": {
        "id": "XIbPAQTKvOCi"
      },
      "execution_count": 6,
      "outputs": []
    },
    {
      "cell_type": "markdown",
      "source": [
        "### Pre Setting"
      ],
      "metadata": {
        "id": "03TaZhHNUvu9"
      }
    },
    {
      "cell_type": "code",
      "source": [
        "import torch.optim as optim\n",
        "import torch.nn.functional as F\n",
        "\n",
        "if torch.cuda.is_available():\n",
        "    DEVICE = 'cuda:0'\n",
        "    print('Running on the GPU')\n",
        "else:\n",
        "    DEVICE = \"cpu\"\n",
        "    print('Running on the CPU')\n",
        "\n",
        "MODEL_PATH = '/content/gdrive/MyDrive/Kaggle Deep Learning/output/UNetBasic.pth'\n",
        "LOAD_MODEL = False\n",
        "ROOT_DIR = '/content/gdrive/MyDrive/Kaggle Deep Learning/'\n",
        "IMG_HEIGHT = 512  \n",
        "IMG_WIDTH = 512  \n",
        "BATCH_SIZE = 8\n",
        "LEARNING_RATE = 0.0005\n",
        "EPOCHS = 20\n"
      ],
      "metadata": {
        "colab": {
          "base_uri": "https://localhost:8080/"
        },
        "id": "yc_dWGHDf229",
        "outputId": "dd38712d-1292-4fcf-d87b-607e3d46dbd4"
      },
      "execution_count": 7,
      "outputs": [
        {
          "output_type": "stream",
          "name": "stdout",
          "text": [
            "Running on the GPU\n"
          ]
        }
      ]
    },
    {
      "cell_type": "code",
      "source": [
        ""
      ],
      "metadata": {
        "id": "MaOTxt6KU5g6"
      },
      "execution_count": null,
      "outputs": []
    },
    {
      "cell_type": "code",
      "source": [
        ""
      ],
      "metadata": {
        "id": "NL0Lz0iAU5kP"
      },
      "execution_count": null,
      "outputs": []
    },
    {
      "cell_type": "code",
      "source": [
        ""
      ],
      "metadata": {
        "id": "43bpJHraU5nD"
      },
      "execution_count": null,
      "outputs": []
    },
    {
      "cell_type": "code",
      "source": [
        ""
      ],
      "metadata": {
        "id": "yUa81pESU5tN"
      },
      "execution_count": null,
      "outputs": []
    },
    {
      "cell_type": "code",
      "source": [
        ""
      ],
      "metadata": {
        "id": "LtnJGFZOU8di"
      },
      "execution_count": null,
      "outputs": []
    },
    {
      "cell_type": "markdown",
      "source": [
        "### Training"
      ],
      "metadata": {
        "id": "icmlw5y2U8k6"
      }
    },
    {
      "cell_type": "code",
      "source": [
        "def train_function(data, model, optimizer, loss_fn, device):\n",
        "    print('Entering into train function')\n",
        "    loss_values = []\n",
        "    data = tqdm(data)\n",
        "    for index, batch in enumerate(data): \n",
        "        optimizer.zero_grad()\n",
        "        X, y = batch\n",
        "        X, y = X.to(device), y.to(device)\n",
        "\n",
        "        preds = model(X)\n",
        "        loss = loss_fn(preds, y)\n",
        "\n",
        "        loss.backward()\n",
        "        optimizer.step()\n",
        "\n",
        "    return loss.item()"
      ],
      "metadata": {
        "id": "ZXQWE3BGjyid"
      },
      "execution_count": 8,
      "outputs": []
    },
    {
      "cell_type": "code",
      "source": [
        "def validation_function(data, model, loss_fn, device):\n",
        "    model.eval()\n",
        "    validation_loss_values = []\n",
        "    \n",
        "    data = tqdm(data)\n",
        "    for index, batch in enumerate(data): \n",
        "        X, y = batch\n",
        "        X, y = X.to(device), y.to(device)\n",
        "\n",
        "        preds = model(X)\n",
        "        validation_loss = loss_fn(preds, y)\n",
        "\n",
        "        validation_loss_values.append(validation_loss.item())\n",
        "    \n",
        "    return validation_loss_values"
      ],
      "metadata": {
        "id": "4Pnzu_4Gqjr2"
      },
      "execution_count": 9,
      "outputs": []
    },
    {
      "cell_type": "code",
      "source": [
        "global epoch\n",
        "epoch = 0 # epoch is initially assigned to 0. If LOAD_MODEL is true then\n",
        "          # epoch is set to the last value + 1. \n",
        "LOSS_VALS = [] # Defining a list to store loss values after every epoch\n",
        "VALIDATION_LOSS = []\n",
        "\n",
        "transform = transforms.Compose([\n",
        "    transforms.Resize((IMG_HEIGHT, IMG_WIDTH), interpolation=transforms.InterpolationMode.NEAREST),\n",
        "]) \n",
        "\n",
        "train_set = get_FDL21_data(\n",
        "    split='train',\n",
        "    root_dir=ROOT_DIR,\n",
        "    transforms=transform,\n",
        "    batch_size=BATCH_SIZE,\n",
        ")\n",
        "\n",
        "validation_set = get_FDL21_data(\n",
        "    split='val',\n",
        "    root_dir=ROOT_DIR,\n",
        "    transforms=transform,\n",
        "    batch_size=BATCH_SIZE,\n",
        ")"
      ],
      "metadata": {
        "id": "FuQiZY8akbdu"
      },
      "execution_count": 10,
      "outputs": []
    },
    {
      "cell_type": "code",
      "source": [
        "train_set"
      ],
      "metadata": {
        "colab": {
          "base_uri": "https://localhost:8080/"
        },
        "id": "qoIGlsBNTCFt",
        "outputId": "3554b7b7-bd04-4350-9c8e-0e36769dc878"
      },
      "execution_count": 11,
      "outputs": [
        {
          "output_type": "execute_result",
          "data": {
            "text/plain": [
              "<torch.utils.data.dataloader.DataLoader at 0x7f280de09890>"
            ]
          },
          "metadata": {},
          "execution_count": 11
        }
      ]
    },
    {
      "cell_type": "code",
      "source": [
        "# Defining the model, optimizer and loss function\n",
        "unet = UNet().to(DEVICE)\n",
        "optimizer = optim.SGD(unet.parameters(), lr=LEARNING_RATE)\n",
        "loss_function = torch.nn.CrossEntropyLoss() "
      ],
      "metadata": {
        "id": "IKF9rqqxmfRA"
      },
      "execution_count": 12,
      "outputs": []
    },
    {
      "cell_type": "code",
      "source": [
        "import matplotlib.pyplot as plt\n",
        "save_folder = '/content/gdrive/MyDrive/Kaggle Deep Learning/output/'\n",
        "#function that creates the train-val loss graph\n",
        "#variables 'train_loss' and 'val_loss' are losts containing the average losses for all the epochs\n",
        "def save_graph(train_loss, val_loss, nb_epochs, save_folder):\n",
        "    plt.plot(list(range(nb_epochs+1))[1:], train_loss)\n",
        "    plt.plot(list(range(nb_epochs+1))[1:], val_loss)\n",
        "    plt.legend(['train', 'val'])\n",
        "    plt.xlabel('Epochs')\n",
        "    plt.ylabel('Loss')\n",
        "    plt.savefig('{}/chart.png'.format(save_folder))"
      ],
      "metadata": {
        "id": "JDpn5f14y-Vr"
      },
      "execution_count": 13,
      "outputs": []
    },
    {
      "cell_type": "code",
      "source": [
        "#Training the model for every epoch. \n",
        "for e in range(epoch, EPOCHS):\n",
        "    ## TRAINING ##\n",
        "    print(f'Epoch: {e}')\n",
        "    loss_val = train_function(train_set, unet, optimizer, loss_function, DEVICE)\n",
        "    LOSS_VALS.append(loss_val) \n",
        "    torch.save({\n",
        "        'model_state_dict': unet.state_dict(),\n",
        "        'optim_state_dict': optimizer.state_dict(),\n",
        "        'epoch': e,\n",
        "        'loss_values': LOSS_VALS\n",
        "    }, MODEL_PATH)\n",
        "    print(\"Epoch completed and model successfully saved!\")\n",
        "\n",
        "    ## VALIDATION ##\n",
        "    validation_loss_values = validation_function(validation_set, unet, loss_function, DEVICE)\n",
        "    validation_loss_mean = np.mean(validation_loss_values)\n",
        "    VALIDATION_LOSS.append(validation_loss_mean)"
      ],
      "metadata": {
        "colab": {
          "base_uri": "https://localhost:8080/"
        },
        "id": "4FUXE6ZXmzSE",
        "outputId": "5d5f036b-0af3-46e6-eea5-9b5089e859bc"
      },
      "execution_count": 14,
      "outputs": [
        {
          "metadata": {
            "tags": null
          },
          "name": "stdout",
          "output_type": "stream",
          "text": [
            "Epoch: 0\n",
            "Entering into train function\n"
          ]
        },
        {
          "metadata": {
            "tags": null
          },
          "name": "stderr",
          "output_type": "stream",
          "text": [
            "100%|██████████| 28/28 [00:55<00:00,  1.97s/it]\n"
          ]
        },
        {
          "metadata": {
            "tags": null
          },
          "name": "stdout",
          "output_type": "stream",
          "text": [
            "Epoch completed and model successfully saved!\n"
          ]
        },
        {
          "metadata": {
            "tags": null
          },
          "name": "stderr",
          "output_type": "stream",
          "text": [
            "100%|██████████| 5/5 [00:10<00:00,  2.01s/it]\n"
          ]
        },
        {
          "metadata": {
            "tags": null
          },
          "name": "stdout",
          "output_type": "stream",
          "text": [
            "Epoch: 1\n",
            "Entering into train function\n"
          ]
        },
        {
          "metadata": {
            "tags": null
          },
          "name": "stderr",
          "output_type": "stream",
          "text": [
            "100%|██████████| 28/28 [00:54<00:00,  1.95s/it]\n"
          ]
        },
        {
          "metadata": {
            "tags": null
          },
          "name": "stdout",
          "output_type": "stream",
          "text": [
            "Epoch completed and model successfully saved!\n"
          ]
        },
        {
          "metadata": {
            "tags": null
          },
          "name": "stderr",
          "output_type": "stream",
          "text": [
            "100%|██████████| 5/5 [00:10<00:00,  2.03s/it]\n"
          ]
        },
        {
          "metadata": {
            "tags": null
          },
          "name": "stdout",
          "output_type": "stream",
          "text": [
            "Epoch: 2\n",
            "Entering into train function\n"
          ]
        },
        {
          "metadata": {
            "tags": null
          },
          "name": "stderr",
          "output_type": "stream",
          "text": [
            "100%|██████████| 28/28 [00:54<00:00,  1.96s/it]\n"
          ]
        },
        {
          "metadata": {
            "tags": null
          },
          "name": "stdout",
          "output_type": "stream",
          "text": [
            "Epoch completed and model successfully saved!\n"
          ]
        },
        {
          "metadata": {
            "tags": null
          },
          "name": "stderr",
          "output_type": "stream",
          "text": [
            "100%|██████████| 5/5 [00:10<00:00,  2.03s/it]\n"
          ]
        },
        {
          "metadata": {
            "tags": null
          },
          "name": "stdout",
          "output_type": "stream",
          "text": [
            "Epoch: 3\n",
            "Entering into train function\n"
          ]
        },
        {
          "metadata": {
            "tags": null
          },
          "name": "stderr",
          "output_type": "stream",
          "text": [
            "100%|██████████| 28/28 [00:54<00:00,  1.95s/it]\n"
          ]
        },
        {
          "metadata": {
            "tags": null
          },
          "name": "stdout",
          "output_type": "stream",
          "text": [
            "Epoch completed and model successfully saved!\n"
          ]
        },
        {
          "metadata": {
            "tags": null
          },
          "name": "stderr",
          "output_type": "stream",
          "text": [
            "100%|██████████| 5/5 [00:10<00:00,  2.05s/it]\n"
          ]
        },
        {
          "metadata": {
            "tags": null
          },
          "name": "stdout",
          "output_type": "stream",
          "text": [
            "Epoch: 4\n",
            "Entering into train function\n"
          ]
        },
        {
          "metadata": {
            "tags": null
          },
          "name": "stderr",
          "output_type": "stream",
          "text": [
            "100%|██████████| 28/28 [00:54<00:00,  1.95s/it]\n"
          ]
        },
        {
          "metadata": {
            "tags": null
          },
          "name": "stdout",
          "output_type": "stream",
          "text": [
            "Epoch completed and model successfully saved!\n"
          ]
        },
        {
          "metadata": {
            "tags": null
          },
          "name": "stderr",
          "output_type": "stream",
          "text": [
            "100%|██████████| 5/5 [00:10<00:00,  2.02s/it]\n"
          ]
        },
        {
          "metadata": {
            "tags": null
          },
          "name": "stdout",
          "output_type": "stream",
          "text": [
            "Epoch: 5\n",
            "Entering into train function\n"
          ]
        },
        {
          "metadata": {
            "tags": null
          },
          "name": "stderr",
          "output_type": "stream",
          "text": [
            "100%|██████████| 28/28 [00:54<00:00,  1.95s/it]\n"
          ]
        },
        {
          "metadata": {
            "tags": null
          },
          "name": "stdout",
          "output_type": "stream",
          "text": [
            "Epoch completed and model successfully saved!\n"
          ]
        },
        {
          "metadata": {
            "tags": null
          },
          "name": "stderr",
          "output_type": "stream",
          "text": [
            "100%|██████████| 5/5 [00:10<00:00,  2.02s/it]\n"
          ]
        },
        {
          "metadata": {
            "tags": null
          },
          "name": "stdout",
          "output_type": "stream",
          "text": [
            "Epoch: 6\n",
            "Entering into train function\n"
          ]
        },
        {
          "metadata": {
            "tags": null
          },
          "name": "stderr",
          "output_type": "stream",
          "text": [
            "100%|██████████| 28/28 [00:55<00:00,  1.97s/it]\n"
          ]
        },
        {
          "metadata": {
            "tags": null
          },
          "name": "stdout",
          "output_type": "stream",
          "text": [
            "Epoch completed and model successfully saved!\n"
          ]
        },
        {
          "metadata": {
            "tags": null
          },
          "name": "stderr",
          "output_type": "stream",
          "text": [
            "100%|██████████| 5/5 [00:10<00:00,  2.04s/it]\n"
          ]
        },
        {
          "metadata": {
            "tags": null
          },
          "name": "stdout",
          "output_type": "stream",
          "text": [
            "Epoch: 7\n",
            "Entering into train function\n"
          ]
        },
        {
          "metadata": {
            "tags": null
          },
          "name": "stderr",
          "output_type": "stream",
          "text": [
            "100%|██████████| 28/28 [00:55<00:00,  1.97s/it]\n"
          ]
        },
        {
          "metadata": {
            "tags": null
          },
          "name": "stdout",
          "output_type": "stream",
          "text": [
            "Epoch completed and model successfully saved!\n"
          ]
        },
        {
          "metadata": {
            "tags": null
          },
          "name": "stderr",
          "output_type": "stream",
          "text": [
            "100%|██████████| 5/5 [00:10<00:00,  2.09s/it]\n"
          ]
        },
        {
          "metadata": {
            "tags": null
          },
          "name": "stdout",
          "output_type": "stream",
          "text": [
            "Epoch: 8\n",
            "Entering into train function\n"
          ]
        },
        {
          "metadata": {
            "tags": null
          },
          "name": "stderr",
          "output_type": "stream",
          "text": [
            "100%|██████████| 28/28 [00:54<00:00,  1.96s/it]\n"
          ]
        },
        {
          "metadata": {
            "tags": null
          },
          "name": "stdout",
          "output_type": "stream",
          "text": [
            "Epoch completed and model successfully saved!\n"
          ]
        },
        {
          "metadata": {
            "tags": null
          },
          "name": "stderr",
          "output_type": "stream",
          "text": [
            "100%|██████████| 5/5 [00:10<00:00,  2.03s/it]\n"
          ]
        },
        {
          "metadata": {
            "tags": null
          },
          "name": "stdout",
          "output_type": "stream",
          "text": [
            "Epoch: 9\n",
            "Entering into train function\n"
          ]
        },
        {
          "metadata": {
            "tags": null
          },
          "name": "stderr",
          "output_type": "stream",
          "text": [
            "100%|██████████| 28/28 [00:54<00:00,  1.94s/it]\n"
          ]
        },
        {
          "metadata": {
            "tags": null
          },
          "name": "stdout",
          "output_type": "stream",
          "text": [
            "Epoch completed and model successfully saved!\n"
          ]
        },
        {
          "metadata": {
            "tags": null
          },
          "name": "stderr",
          "output_type": "stream",
          "text": [
            "100%|██████████| 5/5 [00:10<00:00,  2.00s/it]\n"
          ]
        },
        {
          "metadata": {
            "tags": null
          },
          "name": "stdout",
          "output_type": "stream",
          "text": [
            "Epoch: 10\n",
            "Entering into train function\n"
          ]
        },
        {
          "metadata": {
            "tags": null
          },
          "name": "stderr",
          "output_type": "stream",
          "text": [
            "100%|██████████| 28/28 [00:54<00:00,  1.93s/it]\n"
          ]
        },
        {
          "metadata": {
            "tags": null
          },
          "name": "stdout",
          "output_type": "stream",
          "text": [
            "Epoch completed and model successfully saved!\n"
          ]
        },
        {
          "metadata": {
            "tags": null
          },
          "name": "stderr",
          "output_type": "stream",
          "text": [
            "100%|██████████| 5/5 [00:10<00:00,  2.01s/it]\n"
          ]
        },
        {
          "metadata": {
            "tags": null
          },
          "name": "stdout",
          "output_type": "stream",
          "text": [
            "Epoch: 11\n",
            "Entering into train function\n"
          ]
        },
        {
          "metadata": {
            "tags": null
          },
          "name": "stderr",
          "output_type": "stream",
          "text": [
            "100%|██████████| 28/28 [00:54<00:00,  1.94s/it]\n"
          ]
        },
        {
          "metadata": {
            "tags": null
          },
          "name": "stdout",
          "output_type": "stream",
          "text": [
            "Epoch completed and model successfully saved!\n"
          ]
        },
        {
          "metadata": {
            "tags": null
          },
          "name": "stderr",
          "output_type": "stream",
          "text": [
            "100%|██████████| 5/5 [00:10<00:00,  2.00s/it]\n"
          ]
        },
        {
          "metadata": {
            "tags": null
          },
          "name": "stdout",
          "output_type": "stream",
          "text": [
            "Epoch: 12\n",
            "Entering into train function\n"
          ]
        },
        {
          "metadata": {
            "tags": null
          },
          "name": "stderr",
          "output_type": "stream",
          "text": [
            "100%|██████████| 28/28 [00:54<00:00,  1.94s/it]\n"
          ]
        },
        {
          "metadata": {
            "tags": null
          },
          "name": "stdout",
          "output_type": "stream",
          "text": [
            "Epoch completed and model successfully saved!\n"
          ]
        },
        {
          "metadata": {
            "tags": null
          },
          "name": "stderr",
          "output_type": "stream",
          "text": [
            "100%|██████████| 5/5 [00:10<00:00,  2.02s/it]\n"
          ]
        },
        {
          "metadata": {
            "tags": null
          },
          "name": "stdout",
          "output_type": "stream",
          "text": [
            "Epoch: 13\n",
            "Entering into train function\n"
          ]
        },
        {
          "metadata": {
            "tags": null
          },
          "name": "stderr",
          "output_type": "stream",
          "text": [
            "100%|██████████| 28/28 [00:54<00:00,  1.94s/it]\n"
          ]
        },
        {
          "metadata": {
            "tags": null
          },
          "name": "stdout",
          "output_type": "stream",
          "text": [
            "Epoch completed and model successfully saved!\n"
          ]
        },
        {
          "metadata": {
            "tags": null
          },
          "name": "stderr",
          "output_type": "stream",
          "text": [
            "100%|██████████| 5/5 [00:10<00:00,  2.01s/it]\n"
          ]
        },
        {
          "metadata": {
            "tags": null
          },
          "name": "stdout",
          "output_type": "stream",
          "text": [
            "Epoch: 14\n",
            "Entering into train function\n"
          ]
        },
        {
          "output_type": "stream",
          "name": "stderr",
          "text": [
            "100%|██████████| 28/28 [00:54<00:00,  1.93s/it]\n"
          ]
        },
        {
          "output_type": "stream",
          "name": "stdout",
          "text": [
            "Epoch completed and model successfully saved!\n"
          ]
        },
        {
          "output_type": "stream",
          "name": "stderr",
          "text": [
            "100%|██████████| 5/5 [00:10<00:00,  2.01s/it]\n"
          ]
        },
        {
          "output_type": "stream",
          "name": "stdout",
          "text": [
            "Epoch: 15\n",
            "Entering into train function\n"
          ]
        },
        {
          "output_type": "stream",
          "name": "stderr",
          "text": [
            "100%|██████████| 28/28 [00:54<00:00,  1.94s/it]\n"
          ]
        },
        {
          "output_type": "stream",
          "name": "stdout",
          "text": [
            "Epoch completed and model successfully saved!\n"
          ]
        },
        {
          "output_type": "stream",
          "name": "stderr",
          "text": [
            "100%|██████████| 5/5 [00:10<00:00,  2.01s/it]\n"
          ]
        },
        {
          "output_type": "stream",
          "name": "stdout",
          "text": [
            "Epoch: 16\n",
            "Entering into train function\n"
          ]
        },
        {
          "output_type": "stream",
          "name": "stderr",
          "text": [
            "100%|██████████| 28/28 [00:55<00:00,  1.97s/it]\n"
          ]
        },
        {
          "output_type": "stream",
          "name": "stdout",
          "text": [
            "Epoch completed and model successfully saved!\n"
          ]
        },
        {
          "output_type": "stream",
          "name": "stderr",
          "text": [
            "100%|██████████| 5/5 [00:10<00:00,  2.00s/it]\n"
          ]
        },
        {
          "output_type": "stream",
          "name": "stdout",
          "text": [
            "Epoch: 17\n",
            "Entering into train function\n"
          ]
        },
        {
          "output_type": "stream",
          "name": "stderr",
          "text": [
            "100%|██████████| 28/28 [00:55<00:00,  1.97s/it]\n"
          ]
        },
        {
          "output_type": "stream",
          "name": "stdout",
          "text": [
            "Epoch completed and model successfully saved!\n"
          ]
        },
        {
          "output_type": "stream",
          "name": "stderr",
          "text": [
            "100%|██████████| 5/5 [00:09<00:00,  2.00s/it]\n"
          ]
        },
        {
          "output_type": "stream",
          "name": "stdout",
          "text": [
            "Epoch: 18\n",
            "Entering into train function\n"
          ]
        },
        {
          "output_type": "stream",
          "name": "stderr",
          "text": [
            "100%|██████████| 28/28 [00:54<00:00,  1.94s/it]\n"
          ]
        },
        {
          "output_type": "stream",
          "name": "stdout",
          "text": [
            "Epoch completed and model successfully saved!\n"
          ]
        },
        {
          "output_type": "stream",
          "name": "stderr",
          "text": [
            "100%|██████████| 5/5 [00:10<00:00,  2.01s/it]\n"
          ]
        },
        {
          "output_type": "stream",
          "name": "stdout",
          "text": [
            "Epoch: 19\n",
            "Entering into train function\n"
          ]
        },
        {
          "output_type": "stream",
          "name": "stderr",
          "text": [
            "100%|██████████| 28/28 [00:54<00:00,  1.94s/it]\n"
          ]
        },
        {
          "output_type": "stream",
          "name": "stdout",
          "text": [
            "Epoch completed and model successfully saved!\n"
          ]
        },
        {
          "output_type": "stream",
          "name": "stderr",
          "text": [
            "100%|██████████| 5/5 [00:10<00:00,  2.00s/it]\n"
          ]
        }
      ]
    },
    {
      "cell_type": "code",
      "source": [
        "save_graph(LOSS_VALS, VALIDATION_LOSS, EPOCHS, save_folder)"
      ],
      "metadata": {
        "colab": {
          "base_uri": "https://localhost:8080/",
          "height": 279
        },
        "id": "HTHuJ89e7nIg",
        "outputId": "7d034672-3c23-4e9e-b60f-dc759648e734"
      },
      "execution_count": 16,
      "outputs": [
        {
          "output_type": "display_data",
          "data": {
            "image/png": "[encoded data removed]",
            "text/plain": [
              "<Figure size 432x288 with 1 Axes>"
            ]
          },
          "metadata": {
            "needs_background": "light"
          }
        }
      ]
    },
    {
      "cell_type": "code",
      "source": [
        ""
      ],
      "metadata": {
        "id": "raku4GHB4w_9"
      },
      "execution_count": 47,
      "outputs": []
    },
    {
      "cell_type": "code",
      "source": [
        ""
      ],
      "metadata": {
        "id": "tq5gEB1x_BaC"
      },
      "execution_count": null,
      "outputs": []
    },
    {
      "cell_type": "code",
      "source": [
        ""
      ],
      "metadata": {
        "id": "FZgk_3dI4xCa"
      },
      "execution_count": null,
      "outputs": []
    },
    {
      "cell_type": "code",
      "source": [
        ""
      ],
      "metadata": {
        "id": "KHmqbX9L4xEh"
      },
      "execution_count": null,
      "outputs": []
    },
    {
      "cell_type": "code",
      "source": [
        ""
      ],
      "metadata": {
        "id": "xs9IPWVG4xGo"
      },
      "execution_count": null,
      "outputs": []
    },
    {
      "cell_type": "markdown",
      "source": [
        "### Predict and Output"
      ],
      "metadata": {
        "id": "hywsG4g1VCDx"
      }
    },
    {
      "cell_type": "code",
      "source": [
        "torch.cuda.empty_cache()"
      ],
      "metadata": {
        "id": "eAGq8gdA5dHt"
      },
      "execution_count": null,
      "outputs": []
    },
    {
      "cell_type": "code",
      "source": [
        "folder = '/content/gdrive/MyDrive/Kaggle Deep Learning/test_masks'"
      ],
      "metadata": {
        "id": "Q4LNp_Nv6dco"
      },
      "execution_count": 14,
      "outputs": []
    },
    {
      "cell_type": "code",
      "source": [
        "import matplotlib.pyplot as plt "
      ],
      "metadata": {
        "id": "KtjMuKA-39ik"
      },
      "execution_count": 15,
      "outputs": []
    },
    {
      "cell_type": "code",
      "source": [
        "if torch.cuda.is_available():\n",
        "    device = 'cuda:0'\n",
        "    print('Running on the GPU')\n",
        "else:\n",
        "    device = 'cpu'\n",
        "    print('Running on the CPU')\n",
        "IMAGE_HEIGHT = 512\n",
        "IMAGE_WIDTH = 512\n",
        "EVAL = True\n",
        "PLOT_LOSS = True\n",
        "\n",
        "def save_predictions(data, model):    \n",
        "    model.eval()\n",
        "    with torch.no_grad():\n",
        "        for idx, batch in enumerate(tqdm(data)):\n",
        "\n",
        "            X, y, s = batch # here 's' is the name of the file stored in the root directory\n",
        "            X, y = X.to(device), y.to(device)\n",
        "            predictions = model(X) \n",
        "            \n",
        "            predictions = torch.nn.functional.softmax(predictions, dim=1)\n",
        "            pred_labels = torch.argmax(predictions, dim=1) \n",
        "            pred_labels = pred_labels.float()\n",
        "\n",
        "            # Resizing predicted images too original size\n",
        "            pred_labels = transforms.Resize((4000, 3000), interpolation=transforms.InterpolationMode.NEAREST)(pred_labels)\n",
        "            # Configure filename & location to save predictions as images\n",
        "            name = re.search('\\/(\\d+\\.?\\d*)\\.', str(s)).group(1)\n",
        "            global location\n",
        "            #for test: \n",
        "            location = '/content/gdrive/MyDrive/Kaggle Deep Learning/test_masks'\n",
        "            #for val: location = '/content/data/val_preds/'\n",
        "            save_as_images(pred_labels, location, name)                \n",
        "\n",
        "def evaluate(path):\n",
        "    T = transforms.Compose([\n",
        "        transforms.Resize((IMAGE_HEIGHT, IMAGE_WIDTH), interpolation=transforms.InterpolationMode.NEAREST)\n",
        "    ])\n",
        "\n",
        "    val_set = get_FDL21_data(\n",
        "        root_dir=ROOT_DIR,\n",
        "        split='test',\n",
        "        transforms=T,\n",
        "        shuffle=True,\n",
        "        eval=True\n",
        "    )\n",
        " \n",
        "    print('Data has been loaded!')\n",
        "\n",
        "    net = UNet().to(device)\n",
        "    checkpoint = torch.load(path)\n",
        "    net.load_state_dict(checkpoint['model_state_dict'])\n",
        "    net.eval()\n",
        "    print(f'{path} has been loaded and initialized')\n",
        "    save_predictions(val_set, net)\n",
        "\n",
        "def plot_losses(path):\n",
        "    checkpoint = torch.load(path)\n",
        "    losses = checkpoint['loss_values']\n",
        "    epoch = checkpoint['epoch']\n",
        "    epoch_list = list(range(epoch+1))\n",
        "\n",
        "    print('loss:')\n",
        "    print(losses[-1])\n",
        "    plt.plot(epoch_list, losses)\n",
        "    plt.xlabel('Epochs')\n",
        "    plt.ylabel('Loss')\n",
        "    plt.title(f\"Loss over {epoch+1} epoch/s\")\n",
        "    plt.show()\n",
        "\n",
        "if __name__ == '__main__':\n",
        "    if EVAL:\n",
        "        evaluate(MODEL_PATH)\n",
        "    if PLOT_LOSS:\n",
        "        plot_losses(MODEL_PATH)"
      ],
      "metadata": {
        "colab": {
          "base_uri": "https://localhost:8080/",
          "height": 399
        },
        "id": "50Cab-hg5eng",
        "outputId": "18f72406-6ccc-4808-95f9-6536eacd8f81"
      },
      "execution_count": 16,
      "outputs": [
        {
          "output_type": "stream",
          "name": "stdout",
          "text": [
            "Running on the GPU\n",
            "Data has been loaded!\n",
            "/content/gdrive/MyDrive/Kaggle Deep Learning/output/UNetBasic.pth has been loaded and initialized\n"
          ]
        },
        {
          "output_type": "stream",
          "name": "stderr",
          "text": [
            "100%|██████████| 112/112 [00:59<00:00,  1.89it/s]"
          ]
        },
        {
          "output_type": "stream",
          "name": "stdout",
          "text": [
            "loss:\n",
            "3.2149319648742676\n"
          ]
        },
        {
          "output_type": "stream",
          "name": "stderr",
          "text": [
            "\n"
          ]
        },
        {
          "output_type": "display_data",
          "data": {
            "image/png": "[encoded data removed]",
            "text/plain": [
              "<Figure size 432x288 with 1 Axes>"
            ]
          },
          "metadata": {
            "needs_background": "light"
          }
        }
      ]
    },
    {
      "cell_type": "code",
      "source": [
        "import matplotlib.pyplot as plt \n",
        "import cv2\n",
        "\n",
        "image_path = '/content/gdrive/MyDrive/Kaggle Deep Learning/test_images/10171.jpg'\n",
        "mask_path = '/content/gdrive/MyDrive/Kaggle Deep Learning/test_masks/10171.png'\n",
        "\n",
        "image = cv2.imread(image_path)\n",
        "image = cv2.cvtColor(image, cv2.COLOR_BGR2RGB)\n",
        "\n",
        "mask = cv2.imread(mask_path, cv2.IMREAD_GRAYSCALE)\n",
        "f, (ax1, ax2) = plt.subplots(1, 2, figsize=(10,5))\n",
        "        \n",
        "ax1.set_title('IMAGE')\n",
        "ax1.imshow(image)\n",
        "\n",
        "ax2.set_title('MASK')\n",
        "ax2.imshow(mask,cmap = 'gray')"
      ],
      "metadata": {
        "id": "Cu_NJQ3p5ep9"
      },
      "execution_count": null,
      "outputs": []
    },
    {
      "cell_type": "code",
      "source": [
        "import os\n",
        "\n",
        "from PIL import Image\n",
        "import numpy as np\n",
        "\n",
        "def rle_encode(img):\n",
        "    '''\n",
        "    img: numpy array, 1 - mask, 0 - background\n",
        "    Returns run length as string formated\n",
        "    '''\n",
        "    pixels = img.flatten()\n",
        "    pixels = np.concatenate([[0], pixels, [0]])\n",
        "    runs = np.where(pixels[1:] != pixels[:-1])[0] + 1\n",
        "    runs[1::2] -= runs[::2]\n",
        "    return ' '.join(str(x) for x in runs)\n",
        "\n",
        "def rle_decode(mask_rle, shape):\n",
        "    '''\n",
        "    mask_rle: run-length as string formated (start length)\n",
        "    shape: (height,width) of array to return\n",
        "    Returns numpy array, 1 - mask, 0 - background\n",
        "    '''\n",
        "    s = mask_rle.split()\n",
        "    starts, lengths = [np.asarray(x, dtype=int) for x in (s[0:][::2], s[1:][::2])]\n",
        "    starts -= 1\n",
        "    ends = starts + lengths\n",
        "    img = np.zeros(shape[0]*shape[1], dtype=np.uint8)\n",
        "    for lo, hi in zip(starts, ends):\n",
        "        img[lo:hi] = 1\n",
        "    return img.reshape(shape)\n",
        "\n",
        "\n",
        "def create_rles():\n",
        "    \"\"\"Used for Kaggle submission: predicts and encode all test images\"\"\"\n",
        "    dir = '/content/gdrive/MyDrive/Kaggle Deep Learning/test_masks'\n",
        "    N = len(list(os.listdir(dir)))\n",
        "    with open('/content/gdrive/MyDrive/Kaggle Deep Learning/output/submission_file.csv', 'w') as f:\n",
        "        f.write('ImageClassId,rle_mask\\n')\n",
        "        for index, i in enumerate(os.listdir(dir)):\n",
        "            print('{}/{}'.format(index, N))\n",
        "\n",
        "            mask = Image.open(dir + '/' + i)\n",
        "            mask = mask.resize((1024, 1024), resample=Image.NEAREST)\n",
        "            mask = np.array(mask)\n",
        "\n",
        "            for x in range(1, 25):\n",
        "                enc = rle_encode(mask == x)\n",
        "                f.write(f\"{i.split('_')[0]}_{x},{enc}\\n\")"
      ],
      "metadata": {
        "id": "BL4a9vL6-4_h"
      },
      "execution_count": null,
      "outputs": []
    },
    {
      "cell_type": "code",
      "source": [
        "create_rles()"
      ],
      "metadata": {
        "id": "DEXJgKHgNDGD"
      },
      "execution_count": null,
      "outputs": []
    }
  ]
}